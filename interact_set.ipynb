{
 "cells": [
  {
   "cell_type": "code",
   "execution_count": 1,
   "metadata": {},
   "outputs": [],
   "source": [
    "import os\n",
    "import pandas as pd\n",
    "from tkinter.filedialog import askopenfilename\n",
    "import time\n",
    "import matplotlib.pyplot as plt\n",
    "import numpy as np\n",
    "from scipy.special import erf, erfinv # Modified code to include ionization factor (N^2/3)\n",
    "from scipy.optimize import curve_fit\n",
    "from math import exp,sqrt, log, sinh, cosh, floor\n",
    "from pathlib import Path\n",
    "import Deflection_Lib as funcs #File containing some helper functions\n",
    "from ipywidgets import interact, interactive, fixed, interact_manual, IntSlider\n",
    "import ipywidgets as widgets"
   ]
  },
  {
   "cell_type": "code",
   "execution_count": 48,
   "metadata": {},
   "outputs": [
    {
     "data": {
      "application/vnd.jupyter.widget-view+json": {
       "model_id": "ee7837a1227746318fd5c265b6ec8b59",
       "version_major": 2,
       "version_minor": 0
      },
      "text/plain": [
       "HBox(children=(Label(value='Upload Undeflected Data: '), FileUpload(value=(), description='Upload')))"
      ]
     },
     "metadata": {},
     "output_type": "display_data"
    },
    {
     "data": {
      "application/vnd.jupyter.widget-view+json": {
       "model_id": "86fc7ea6f4694f689249b1e61ffff534",
       "version_major": 2,
       "version_minor": 0
      },
      "text/plain": [
       "HBox(children=(Label(value='Upload Undeflected Data: '), FileUpload(value=(), description='Upload')))"
      ]
     },
     "metadata": {},
     "output_type": "display_data"
    }
   ],
   "source": [
    "'''\n",
    "undeflected_data = widgets.FileUpload(multiple=False)\n",
    "deflected_data = widgets.FileUpload(multiple=False)\n",
    "undeflected_data_hbox = widgets.HBox([widgets.Label(value=\"Upload Undeflected Data: \"),undeflected_data])\n",
    "deflected_data_hbox = widgets.HBox([widgets.Label(value=\"Upload Undeflected Data: \"),deflected_data])\n",
    "\n",
    "display(undeflected_data_hbox)\n",
    "display(deflected_data_hbox)\n",
    "'''\n",
    "\n",
    "##Take PV fit to undeflected data\n",
    "undefl_txt=askopenfilename(title=\"SELECT UNDEFLECTED DATA\", initialfile=\"1_Fitted_Undeflected_Data\")\n",
    "undeflected_data = np.loadtxt(undefl_txt)\n",
    "\n",
    "'''\n",
    "undeflected_left_boundary = undeflected_data[0,0] #domain of zero-field profile\n",
    "undeflected_right_boundary = undeflected_data[-1,0]\n",
    "undeflected_data_x_vals = undeflected_data[:,0]\n",
    "undeflected_data_y_vals = undeflected_data[:,1]\n",
    "undeflected_data_max = max(undeflected_data_y_vals)\n",
    "'''\n",
    "\n",
    "\n",
    "##Take PV fit to deflected data, x-values will be used for simulation output\n",
    "deflec_txt = askopenfilename(title=\"SELECT DEFLECTED DATA\", initialfile= \"2_Fitted_Deflected_Data\")\n",
    "deflected_data =  np.loadtxt(deflec_txt)\n",
    "'''\n",
    "deflected_data_x_vals = deflected_data[:,0]\n",
    "deflected_data_y_vals = deflected_data[:,1]\n",
    "deflected_sim_right_bound = deflected_data_x_vals[-1]\n",
    "deflected_sim_left_bound = deflected_data_x_vals[0]\n",
    "\n",
    "simulated_deflection_data_x_vals = deflected_data_x_vals  # Instantiate array for sim output's xvals\n",
    "'''\n",
    "\n"
   ]
  },
  {
   "cell_type": "code",
   "execution_count": 50,
   "metadata": {},
   "outputs": [
    {
     "ename": "TypeError",
     "evalue": "non-string returned while reading data",
     "output_type": "error",
     "traceback": [
      "\u001b[1;31m---------------------------------------------------------------------------\u001b[0m",
      "\u001b[1;31mTypeError\u001b[0m                                 Traceback (most recent call last)",
      "Cell \u001b[1;32mIn[50], line 21\u001b[0m\n\u001b[0;32m     17\u001b[0m     loopLimit \u001b[38;5;241m=\u001b[39m \u001b[38;5;28mint\u001b[39m((maxAveN \u001b[38;5;241m-\u001b[39m startAveN)\u001b[38;5;241m/\u001b[39mincrement\u001b[38;5;241m+\u001b[39m\u001b[38;5;241m1\u001b[39m)\n\u001b[0;32m     19\u001b[0m     vibration_Boiloff \u001b[38;5;241m=\u001b[39m \u001b[38;5;241m1654\u001b[39m\n\u001b[1;32m---> 21\u001b[0m numpy_undef \u001b[38;5;241m=\u001b[39m \u001b[43mnp\u001b[49m\u001b[38;5;241;43m.\u001b[39;49m\u001b[43mloadtxt\u001b[49m\u001b[43m(\u001b[49m\u001b[43mundeflected_data\u001b[49m\u001b[38;5;241;43m.\u001b[39;49m\u001b[43mvalue\u001b[49m\u001b[43m[\u001b[49m\u001b[38;5;241;43m0\u001b[39;49m\u001b[43m]\u001b[49m\u001b[38;5;241;43m.\u001b[39;49m\u001b[43mcontent\u001b[49m\u001b[43m)\u001b[49m\n\u001b[0;32m     27\u001b[0m rat \u001b[38;5;241m=\u001b[39m widgets\u001b[38;5;241m.\u001b[39mText(value\u001b[38;5;241m=\u001b[39m\u001b[38;5;124m'\u001b[39m\u001b[38;5;124m0.9\u001b[39m\u001b[38;5;124m'\u001b[39m,placeholder\u001b[38;5;241m=\u001b[39m\u001b[38;5;124m'\u001b[39m\u001b[38;5;124m0.9\u001b[39m\u001b[38;5;124m'\u001b[39m,description\u001b[38;5;241m=\u001b[39m\u001b[38;5;124m'\u001b[39m\u001b[38;5;124mrat\u001b[39m\u001b[38;5;124m'\u001b[39m,disabled\u001b[38;5;241m=\u001b[39m\u001b[38;5;28;01mFalse\u001b[39;00m)\n\u001b[0;32m     28\u001b[0m vx \u001b[38;5;241m=\u001b[39m widgets\u001b[38;5;241m.\u001b[39mText(value\u001b[38;5;241m=\u001b[39m\u001b[38;5;124m'\u001b[39m\u001b[38;5;124m0.0\u001b[39m\u001b[38;5;124m'\u001b[39m,placeholder\u001b[38;5;241m=\u001b[39m\u001b[38;5;124m'\u001b[39m\u001b[38;5;124m0.9\u001b[39m\u001b[38;5;124m'\u001b[39m,description\u001b[38;5;241m=\u001b[39m\u001b[38;5;124m'\u001b[39m\u001b[38;5;124mvx\u001b[39m\u001b[38;5;124m'\u001b[39m,disabled\u001b[38;5;241m=\u001b[39m\u001b[38;5;28;01mFalse\u001b[39;00m)\n",
      "File \u001b[1;32mC:\\tools\\Manim\\Lib\\site-packages\\numpy\\lib\\npyio.py:1373\u001b[0m, in \u001b[0;36mloadtxt\u001b[1;34m(fname, dtype, comments, delimiter, converters, skiprows, usecols, unpack, ndmin, encoding, max_rows, quotechar, like)\u001b[0m\n\u001b[0;32m   1370\u001b[0m \u001b[38;5;28;01mif\u001b[39;00m \u001b[38;5;28misinstance\u001b[39m(delimiter, \u001b[38;5;28mbytes\u001b[39m):\n\u001b[0;32m   1371\u001b[0m     delimiter \u001b[38;5;241m=\u001b[39m delimiter\u001b[38;5;241m.\u001b[39mdecode(\u001b[38;5;124m'\u001b[39m\u001b[38;5;124mlatin1\u001b[39m\u001b[38;5;124m'\u001b[39m)\n\u001b[1;32m-> 1373\u001b[0m arr \u001b[38;5;241m=\u001b[39m \u001b[43m_read\u001b[49m\u001b[43m(\u001b[49m\u001b[43mfname\u001b[49m\u001b[43m,\u001b[49m\u001b[43m \u001b[49m\u001b[43mdtype\u001b[49m\u001b[38;5;241;43m=\u001b[39;49m\u001b[43mdtype\u001b[49m\u001b[43m,\u001b[49m\u001b[43m \u001b[49m\u001b[43mcomment\u001b[49m\u001b[38;5;241;43m=\u001b[39;49m\u001b[43mcomment\u001b[49m\u001b[43m,\u001b[49m\u001b[43m \u001b[49m\u001b[43mdelimiter\u001b[49m\u001b[38;5;241;43m=\u001b[39;49m\u001b[43mdelimiter\u001b[49m\u001b[43m,\u001b[49m\n\u001b[0;32m   1374\u001b[0m \u001b[43m            \u001b[49m\u001b[43mconverters\u001b[49m\u001b[38;5;241;43m=\u001b[39;49m\u001b[43mconverters\u001b[49m\u001b[43m,\u001b[49m\u001b[43m \u001b[49m\u001b[43mskiplines\u001b[49m\u001b[38;5;241;43m=\u001b[39;49m\u001b[43mskiprows\u001b[49m\u001b[43m,\u001b[49m\u001b[43m \u001b[49m\u001b[43musecols\u001b[49m\u001b[38;5;241;43m=\u001b[39;49m\u001b[43musecols\u001b[49m\u001b[43m,\u001b[49m\n\u001b[0;32m   1375\u001b[0m \u001b[43m            \u001b[49m\u001b[43munpack\u001b[49m\u001b[38;5;241;43m=\u001b[39;49m\u001b[43munpack\u001b[49m\u001b[43m,\u001b[49m\u001b[43m \u001b[49m\u001b[43mndmin\u001b[49m\u001b[38;5;241;43m=\u001b[39;49m\u001b[43mndmin\u001b[49m\u001b[43m,\u001b[49m\u001b[43m \u001b[49m\u001b[43mencoding\u001b[49m\u001b[38;5;241;43m=\u001b[39;49m\u001b[43mencoding\u001b[49m\u001b[43m,\u001b[49m\n\u001b[0;32m   1376\u001b[0m \u001b[43m            \u001b[49m\u001b[43mmax_rows\u001b[49m\u001b[38;5;241;43m=\u001b[39;49m\u001b[43mmax_rows\u001b[49m\u001b[43m,\u001b[49m\u001b[43m \u001b[49m\u001b[43mquote\u001b[49m\u001b[38;5;241;43m=\u001b[39;49m\u001b[43mquotechar\u001b[49m\u001b[43m)\u001b[49m\n\u001b[0;32m   1378\u001b[0m \u001b[38;5;28;01mreturn\u001b[39;00m arr\n",
      "File \u001b[1;32mC:\\tools\\Manim\\Lib\\site-packages\\numpy\\lib\\npyio.py:1016\u001b[0m, in \u001b[0;36m_read\u001b[1;34m(fname, delimiter, comment, quote, imaginary_unit, usecols, skiplines, max_rows, converters, ndmin, unpack, dtype, encoding)\u001b[0m\n\u001b[0;32m   1013\u001b[0m     data \u001b[38;5;241m=\u001b[39m _preprocess_comments(data, comments, encoding)\n\u001b[0;32m   1015\u001b[0m \u001b[38;5;28;01mif\u001b[39;00m read_dtype_via_object_chunks \u001b[38;5;129;01mis\u001b[39;00m \u001b[38;5;28;01mNone\u001b[39;00m:\n\u001b[1;32m-> 1016\u001b[0m     arr \u001b[38;5;241m=\u001b[39m \u001b[43m_load_from_filelike\u001b[49m\u001b[43m(\u001b[49m\n\u001b[0;32m   1017\u001b[0m \u001b[43m        \u001b[49m\u001b[43mdata\u001b[49m\u001b[43m,\u001b[49m\u001b[43m \u001b[49m\u001b[43mdelimiter\u001b[49m\u001b[38;5;241;43m=\u001b[39;49m\u001b[43mdelimiter\u001b[49m\u001b[43m,\u001b[49m\u001b[43m \u001b[49m\u001b[43mcomment\u001b[49m\u001b[38;5;241;43m=\u001b[39;49m\u001b[43mcomment\u001b[49m\u001b[43m,\u001b[49m\u001b[43m \u001b[49m\u001b[43mquote\u001b[49m\u001b[38;5;241;43m=\u001b[39;49m\u001b[43mquote\u001b[49m\u001b[43m,\u001b[49m\n\u001b[0;32m   1018\u001b[0m \u001b[43m        \u001b[49m\u001b[43mimaginary_unit\u001b[49m\u001b[38;5;241;43m=\u001b[39;49m\u001b[43mimaginary_unit\u001b[49m\u001b[43m,\u001b[49m\n\u001b[0;32m   1019\u001b[0m \u001b[43m        \u001b[49m\u001b[43musecols\u001b[49m\u001b[38;5;241;43m=\u001b[39;49m\u001b[43musecols\u001b[49m\u001b[43m,\u001b[49m\u001b[43m \u001b[49m\u001b[43mskiplines\u001b[49m\u001b[38;5;241;43m=\u001b[39;49m\u001b[43mskiplines\u001b[49m\u001b[43m,\u001b[49m\u001b[43m \u001b[49m\u001b[43mmax_rows\u001b[49m\u001b[38;5;241;43m=\u001b[39;49m\u001b[43mmax_rows\u001b[49m\u001b[43m,\u001b[49m\n\u001b[0;32m   1020\u001b[0m \u001b[43m        \u001b[49m\u001b[43mconverters\u001b[49m\u001b[38;5;241;43m=\u001b[39;49m\u001b[43mconverters\u001b[49m\u001b[43m,\u001b[49m\u001b[43m \u001b[49m\u001b[43mdtype\u001b[49m\u001b[38;5;241;43m=\u001b[39;49m\u001b[43mdtype\u001b[49m\u001b[43m,\u001b[49m\n\u001b[0;32m   1021\u001b[0m \u001b[43m        \u001b[49m\u001b[43mencoding\u001b[49m\u001b[38;5;241;43m=\u001b[39;49m\u001b[43mencoding\u001b[49m\u001b[43m,\u001b[49m\u001b[43m \u001b[49m\u001b[43mfilelike\u001b[49m\u001b[38;5;241;43m=\u001b[39;49m\u001b[43mfilelike\u001b[49m\u001b[43m,\u001b[49m\n\u001b[0;32m   1022\u001b[0m \u001b[43m        \u001b[49m\u001b[43mbyte_converters\u001b[49m\u001b[38;5;241;43m=\u001b[39;49m\u001b[43mbyte_converters\u001b[49m\u001b[43m)\u001b[49m\n\u001b[0;32m   1024\u001b[0m \u001b[38;5;28;01melse\u001b[39;00m:\n\u001b[0;32m   1025\u001b[0m     \u001b[38;5;66;03m# This branch reads the file into chunks of object arrays and then\u001b[39;00m\n\u001b[0;32m   1026\u001b[0m     \u001b[38;5;66;03m# casts them to the desired actual dtype.  This ensures correct\u001b[39;00m\n\u001b[0;32m   1027\u001b[0m     \u001b[38;5;66;03m# string-length and datetime-unit discovery (like `arr.astype()`).\u001b[39;00m\n\u001b[0;32m   1028\u001b[0m     \u001b[38;5;66;03m# Due to chunking, certain error reports are less clear, currently.\u001b[39;00m\n\u001b[0;32m   1029\u001b[0m     \u001b[38;5;28;01mif\u001b[39;00m filelike:\n",
      "\u001b[1;31mTypeError\u001b[0m: non-string returned while reading data"
     ]
    }
   ],
   "source": [
    "class simulation_parameters:\n",
    "    rat = 0.9 #0.649336  #ratio of standard deviation to average droplet size\n",
    "    vx = 0.2 #velocity in the x-direction for a particular droplet; used by Droplet() & Deflection()\n",
    "    vz = 0.0 #velocity in the z-direction for a particular droplet; used by Deflection()\n",
    "\n",
    "    moleculeName = \"Cl2Fe\" ## Name of Molecule Used in Simulation\n",
    "    mDop = 126.75*1.66E-27 ## Multiply to change from amu to kg\n",
    "    pDop = 5.4             ## Magnetic moment of dopant (if known)\n",
    "    TDop = 638             ## Temperature of the dopant in a given experiment\n",
    "\n",
    "    v0 = 256          # From MCS data\n",
    "    number_of_iterations = int(1e4)   #Max number of trials per position in zero field data # JN quintupled\n",
    "    startAveN = 10000       # Reasonable first Guess\n",
    "\n",
    "    maxAveN = 14000   # Upper limit for loop\n",
    "    increment = 500   # Change in droplet size per loop\n",
    "    loopLimit = int((maxAveN - startAveN)/increment+1)\n",
    "\n",
    "    vibration_Boiloff = 1654\n",
    "\n",
    "\n",
    "\n",
    "\n",
    "\n",
    "\n",
    "rat = widgets.Text(value='0.9',placeholder='0.9',description='rat',disabled=False)\n",
    "vx = widgets.Text(value='0.0',placeholder='0.9',description='vx',disabled=False)\n",
    "vz = widgets.Text(value='0.0',placeholder='0.9',description='vz',disabled=False)\n",
    "\n",
    "moleculeName = widgets.Text(placeholder ='FeCl2', description='Molecule Name', disabled = False)\n",
    "mDop = widgets.Text(placeholder = '126.75', description = 'mDop') ## IN AMU. Ignore this: Multiply to change from amu to kg\n",
    "pDop = widgets.Text(placeholder = '5.4', description = 'pDop')             ## Magnetic moment of dopant (if known)\n",
    "TDop = widgets.Text(placeholder = '638', description = 'TDop')             ## Temperature of the dopant in a given experiment\n",
    "\n",
    "v0 = widgets.Text(value='256',placeholder='256',description='v0',disabled=False)           # From MCS data\n",
    "number_of_iterations = widgets.Text(value='10000',placeholder='10000',description='number_of_iterations',disabled=False)#int(1e4)   #Max number of trials per position in zero field data # JN quintupled\n",
    "startAveN = widgets.Text(value='',placeholder='6000',description='startAveN',disabled=False)       # Reasonable first Guess\n",
    "\n",
    "maxAveN = widgets.Text(value='14000',placeholder='14000',description='maxAveN',disabled=False)   # Upper limit for loop\n",
    "increment = widgets.Text(value='500',placeholder='500',description='increment',disabled=False)   # Change in droplet size per loop\n",
    "\n",
    "vibration_Boiloff = widgets.Text(value='1654',placeholder='1654',description='Vibrational Boiloff',disabled=False)\n",
    "\n",
    "#Button to save parameters\n",
    "save_button = widgets.Button(\n",
    "    description = 'Submit Parameters!',\n",
    "    button_style='info',\n",
    "    \n",
    ")\n",
    "\n",
    "\n",
    "def save_parameters(b):\n",
    "    simulation_parameters.rat=float(rat.value)\n",
    "    simulation_parameters.vx=float(vx.value)\n",
    "    simulation_parameters.vz=float(vz.value)\n",
    "\n",
    "    simulation_parameters.moleculeName = moleculeName.value\n",
    "    simulation_parameters.mDop=float(mDop.value)*1.66E-27\n",
    "    simulation_parameters.pDop=float(pDop.value)\n",
    "    simulation_parameters.TDop=float(TDop.value)\n",
    "\n",
    "    simulation_parameters.v0 = int(v0.value)\n",
    "    simulation_parameters.number_of_iterations = int(number_of_iterations.value)\n",
    "    simulation_parameters.startAveN = int(startAveN.value)\n",
    "\n",
    "    simulation_parameters.maxAveN = maxAveN.value\n",
    "    simulation_parameters.increment = increment.value\n",
    "\n",
    "    simulation_parameters.vibration_Boiloff = vibration_Boiloff.value\n",
    "style = {'description_width': 'initial'}\n",
    "\n",
    "save_button.on_click(save_parameters)\n",
    "\n",
    "#undefl_txt=widgets.Text(value=undeflected_data.value[0][\"name\"], description= \"Undeflected Data Upload\", disabled = True, style = style)\n",
    "#display(undefl_txt)\n",
    "\n",
    "#defl_txt=widgets.Text(value=deflected_data.value[0][\"name\"], description= \"Deflected Data Upload\", disabled = True, style = style)\n",
    "#display(defl_txt)\n",
    "\n",
    "display(rat)\n",
    "display(vx)\n",
    "display(vz)\n",
    "\n",
    "display(moleculeName)\n",
    "display(mDop)\n",
    "display(pDop)\n",
    "display(TDop)\n",
    "\n",
    "display(v0)\n",
    "display(number_of_iterations)\n",
    "display(startAveN)\n",
    "\n",
    "display(maxAveN)\n",
    "display(increment)\n",
    "display(vibration_Boiloff)\n",
    "\n",
    "display(save_button)\n",
    "\n",
    "\n",
    "\n",
    "\n",
    "\n",
    "\n",
    "\n",
    "\n"
   ]
  },
  {
   "cell_type": "code",
   "execution_count": 163,
   "metadata": {},
   "outputs": [
    {
     "name": "stdout",
     "output_type": "stream",
     "text": [
      "rat:  0.9\n",
      "vx:  0.0\n",
      "vz:  0.0\n",
      "Name:  fwefwe\n",
      "mDop:  2.0438417999999999e-22\n",
      "pDop:  1231.0\n",
      "TDop:  1231.0\n",
      "v0:  256\n",
      "number of iterations:  10000\n",
      "average start number:  213\n",
      "Max:  14000\n",
      "increment:  500\n",
      "vibrational boiloff:  1654\n"
     ]
    }
   ],
   "source": [
    "print(\"rat: \",simulation_parameters.rat)\n",
    "print(\"vx: \",simulation_parameters.vx)\n",
    "print(\"vz: \",simulation_parameters.vz)\n",
    "print(\"Name: \",simulation_parameters.moleculeName)\n",
    "print(\"mDop: \",simulation_parameters.mDop)\n",
    "print(\"pDop: \",simulation_parameters.pDop)\n",
    "print(\"TDop: \",simulation_parameters.TDop)\n",
    "print(\"v0: \",simulation_parameters.v0)\n",
    "print(\"number of iterations: \",simulation_parameters.number_of_iterations)\n",
    "print(\"average start number: \",simulation_parameters.startAveN)\n",
    "print(\"Max: \",simulation_parameters.maxAveN)\n",
    "print(\"increment: \",simulation_parameters.increment)\n",
    "print(\"vibrational boiloff: \",simulation_parameters.vibration_Boiloff)\n"
   ]
  },
  {
   "cell_type": "code",
   "execution_count": null,
   "metadata": {},
   "outputs": [],
   "source": []
  }
 ],
 "metadata": {
  "kernelspec": {
   "display_name": "Python 3",
   "language": "python",
   "name": "python3"
  },
  "language_info": {
   "codemirror_mode": {
    "name": "ipython",
    "version": 3
   },
   "file_extension": ".py",
   "mimetype": "text/x-python",
   "name": "python",
   "nbconvert_exporter": "python",
   "pygments_lexer": "ipython3",
   "version": "3.11.9"
  }
 },
 "nbformat": 4,
 "nbformat_minor": 2
}
