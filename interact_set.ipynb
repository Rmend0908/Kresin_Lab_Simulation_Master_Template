{
 "cells": [
  {
   "cell_type": "code",
   "execution_count": 107,
   "metadata": {},
   "outputs": [],
   "source": [
    "import os\n",
    "import pandas as pd\n",
    "from tkinter.filedialog import askopenfilename\n",
    "import time\n",
    "import matplotlib.pyplot as plt\n",
    "import numpy as np\n",
    "from scipy.special import erf, erfinv # Modified code to include ionization factor (N^2/3)\n",
    "from scipy.optimize import curve_fit\n",
    "from math import exp,sqrt, log, sinh, cosh, floor\n",
    "from pathlib import Path\n",
    "import Deflection_Lib as funcs #File containing some helper functions\n",
    "from ipywidgets import interact, interactive, fixed, interact_manual, IntSlider\n",
    "import ipywidgets as widgets"
   ]
  },
  {
   "cell_type": "code",
   "execution_count": 161,
   "metadata": {},
   "outputs": [
    {
     "data": {
      "application/vnd.jupyter.widget-view+json": {
       "model_id": "fb0c70d3f46c4a9f890e51051ca5a180",
       "version_major": 2,
       "version_minor": 0
      },
      "text/plain": [
       "Text(value='0.9', description='rat', placeholder='0.9')"
      ]
     },
     "metadata": {},
     "output_type": "display_data"
    },
    {
     "data": {
      "application/vnd.jupyter.widget-view+json": {
       "model_id": "ec4b77779e9a4967bd2a9b6420fc7977",
       "version_major": 2,
       "version_minor": 0
      },
      "text/plain": [
       "Text(value='0.0', description='vx', placeholder='0.9')"
      ]
     },
     "metadata": {},
     "output_type": "display_data"
    },
    {
     "data": {
      "application/vnd.jupyter.widget-view+json": {
       "model_id": "e3375101178e47fdaa9a53293910a1b6",
       "version_major": 2,
       "version_minor": 0
      },
      "text/plain": [
       "Text(value='0.0', description='vz', placeholder='0.9')"
      ]
     },
     "metadata": {},
     "output_type": "display_data"
    },
    {
     "data": {
      "application/vnd.jupyter.widget-view+json": {
       "model_id": "db477409e3154593953a6f570d5314db",
       "version_major": 2,
       "version_minor": 0
      },
      "text/plain": [
       "Text(value='', description='Molecule Name', placeholder='FeCl2')"
      ]
     },
     "metadata": {},
     "output_type": "display_data"
    },
    {
     "data": {
      "application/vnd.jupyter.widget-view+json": {
       "model_id": "4d709d1ad10d4abb9b3e7a7ac4efa108",
       "version_major": 2,
       "version_minor": 0
      },
      "text/plain": [
       "Text(value='', description='mDop', placeholder='126.75')"
      ]
     },
     "metadata": {},
     "output_type": "display_data"
    },
    {
     "data": {
      "application/vnd.jupyter.widget-view+json": {
       "model_id": "859e2bc6d52f4c59be9cf0d50f33a264",
       "version_major": 2,
       "version_minor": 0
      },
      "text/plain": [
       "Text(value='', description='pDop', placeholder='5.4')"
      ]
     },
     "metadata": {},
     "output_type": "display_data"
    },
    {
     "data": {
      "application/vnd.jupyter.widget-view+json": {
       "model_id": "68e45713fb6b49ba83872d43b48f1ca6",
       "version_major": 2,
       "version_minor": 0
      },
      "text/plain": [
       "Text(value='', description='TDop', placeholder='638')"
      ]
     },
     "metadata": {},
     "output_type": "display_data"
    },
    {
     "data": {
      "application/vnd.jupyter.widget-view+json": {
       "model_id": "80acc8c278e44717977fefe11b88f7b3",
       "version_major": 2,
       "version_minor": 0
      },
      "text/plain": [
       "Text(value='256', description='v0', placeholder='256')"
      ]
     },
     "metadata": {},
     "output_type": "display_data"
    },
    {
     "data": {
      "application/vnd.jupyter.widget-view+json": {
       "model_id": "cebf4662ced1483baf53dfad87878316",
       "version_major": 2,
       "version_minor": 0
      },
      "text/plain": [
       "Text(value='10000', description='number_of_iterations', placeholder='10000')"
      ]
     },
     "metadata": {},
     "output_type": "display_data"
    },
    {
     "data": {
      "application/vnd.jupyter.widget-view+json": {
       "model_id": "5a5516ff666c40b9b13522c7b0cf1c36",
       "version_major": 2,
       "version_minor": 0
      },
      "text/plain": [
       "Text(value='', description='startAveN', placeholder='6000')"
      ]
     },
     "metadata": {},
     "output_type": "display_data"
    },
    {
     "data": {
      "application/vnd.jupyter.widget-view+json": {
       "model_id": "9530895b235747baaac7eb25e7b83b25",
       "version_major": 2,
       "version_minor": 0
      },
      "text/plain": [
       "Text(value='14000', description='maxAveN', placeholder='14000')"
      ]
     },
     "metadata": {},
     "output_type": "display_data"
    },
    {
     "data": {
      "application/vnd.jupyter.widget-view+json": {
       "model_id": "ff1f2d5f5e944174a2fbfdff0410a495",
       "version_major": 2,
       "version_minor": 0
      },
      "text/plain": [
       "Text(value='500', description='increment', placeholder='500')"
      ]
     },
     "metadata": {},
     "output_type": "display_data"
    },
    {
     "data": {
      "application/vnd.jupyter.widget-view+json": {
       "model_id": "06593b455fc84c6d9c3cb4ccf4c5e085",
       "version_major": 2,
       "version_minor": 0
      },
      "text/plain": [
       "Text(value='1654', description='Vibrational Boiloff', placeholder='1654')"
      ]
     },
     "metadata": {},
     "output_type": "display_data"
    },
    {
     "data": {
      "application/vnd.jupyter.widget-view+json": {
       "model_id": "1d11172d4ddf4d8b99705802f05a3273",
       "version_major": 2,
       "version_minor": 0
      },
      "text/plain": [
       "Button(button_style='info', description='Submit Parameters!', style=ButtonStyle())"
      ]
     },
     "metadata": {},
     "output_type": "display_data"
    }
   ],
   "source": [
    "class simulation_parameters:\n",
    "    rat = 0.9 #0.649336  #ratio of standard deviation to average droplet size\n",
    "    vx = 0.2 #velocity in the x-direction for a particular droplet; used by Droplet() & Deflection()\n",
    "    vz = 0.0 #velocity in the z-direction for a particular droplet; used by Deflection()\n",
    "\n",
    "    moleculeName = \"Cl2Fe\" ## Name of Molecule Used in Simulation\n",
    "    mDop = 126.75*1.66E-27 ## Multiply to change from amu to kg\n",
    "    pDop = 5.4             ## Magnetic moment of dopant (if known)\n",
    "    TDop = 638             ## Temperature of the dopant in a given experiment\n",
    "\n",
    "    v0 = 256          # From MCS data\n",
    "    number_of_iterations = int(1e4)   #Max number of trials per position in zero field data # JN quintupled\n",
    "    startAveN = 10000       # Reasonable first Guess\n",
    "\n",
    "    maxAveN = 14000   # Upper limit for loop\n",
    "    increment = 500   # Change in droplet size per loop\n",
    "    loopLimit = int((maxAveN - startAveN)/increment+1)\n",
    "\n",
    "    vibration_Boiloff = 1654\n",
    "\n",
    "\n",
    "rat = widgets.Text(value='0.9',placeholder='0.9',description='rat',disabled=False)\n",
    "vx = widgets.Text(value='0.0',placeholder='0.9',description='vx',disabled=False)\n",
    "vz = widgets.Text(value='0.0',placeholder='0.9',description='vz',disabled=False)\n",
    "\n",
    "moleculeName = widgets.Text(placeholder ='FeCl2', description='Molecule Name', disabled = False)\n",
    "mDop = widgets.Text(placeholder = '126.75', description = 'mDop') ## IN AMU. Ignore this: Multiply to change from amu to kg\n",
    "pDop = widgets.Text(placeholder = '5.4', description = 'pDop')             ## Magnetic moment of dopant (if known)\n",
    "TDop = widgets.Text(placeholder = '638', description = 'TDop')             ## Temperature of the dopant in a given experiment\n",
    "\n",
    "v0 = widgets.Text(value='256',placeholder='256',description='v0',disabled=False)           # From MCS data\n",
    "number_of_iterations = widgets.Text(value='10000',placeholder='10000',description='number_of_iterations',disabled=False)#int(1e4)   #Max number of trials per position in zero field data # JN quintupled\n",
    "startAveN = widgets.Text(value='',placeholder='6000',description='startAveN',disabled=False)       # Reasonable first Guess\n",
    "\n",
    "maxAveN = widgets.Text(value='14000',placeholder='14000',description='maxAveN',disabled=False)   # Upper limit for loop\n",
    "increment = widgets.Text(value='500',placeholder='500',description='increment',disabled=False)   # Change in droplet size per loop\n",
    "\n",
    "vibration_Boiloff = widgets.Text(value='1654',placeholder='1654',description='Vibrational Boiloff',disabled=False)\n",
    "\n",
    "save_button = widgets.Button(\n",
    "    description = 'Submit Parameters!',\n",
    "    button_style='info',\n",
    "    \n",
    ")\n",
    "\n",
    "def save_parameters(b):\n",
    "    simulation_parameters.rat=float(rat.value)\n",
    "    simulation_parameters.vx=float(vx.value)\n",
    "    simulation_parameters.vz=float(vz.value)\n",
    "\n",
    "    simulation_parameters.moleculeName = moleculeName.value\n",
    "    simulation_parameters.mDop=float(mDop.value)*1.66E-27\n",
    "    simulation_parameters.pDop=float(pDop.value)\n",
    "    simulation_parameters.TDop=float(TDop.value)\n",
    "\n",
    "    simulation_parameters.v0 = int(v0.value)\n",
    "    simulation_parameters.number_of_iterations = int(number_of_iterations.value)\n",
    "    simulation_parameters.startAveN = int(startAveN.value)\n",
    "\n",
    "    simulation_parameters.maxAveN = maxAveN.value\n",
    "    simulation_parameters.increment = increment.value\n",
    "\n",
    "    simulation_parameters.vibration_Boiloff = vibration_Boiloff.value\n",
    "\n",
    "save_button.on_click(save_parameters)\n",
    "\n",
    "display(rat)\n",
    "display(vx)\n",
    "display(vz)\n",
    "\n",
    "display(moleculeName)\n",
    "display(mDop)\n",
    "display(pDop)\n",
    "display(TDop)\n",
    "\n",
    "display(v0)\n",
    "display(number_of_iterations)\n",
    "display(startAveN)\n",
    "\n",
    "display(maxAveN)\n",
    "display(increment)\n",
    "display(vibration_Boiloff)\n",
    "\n",
    "display(save_button)\n",
    "\n",
    "\n",
    "\n",
    "\n"
   ]
  },
  {
   "cell_type": "code",
   "execution_count": 163,
   "metadata": {},
   "outputs": [
    {
     "name": "stdout",
     "output_type": "stream",
     "text": [
      "rat:  0.9\n",
      "vx:  0.0\n",
      "vz:  0.0\n",
      "Name:  fwefwe\n",
      "mDop:  2.0438417999999999e-22\n",
      "pDop:  1231.0\n",
      "TDop:  1231.0\n",
      "v0:  256\n",
      "number of iterations:  10000\n",
      "average start number:  213\n",
      "Max:  14000\n",
      "increment:  500\n",
      "vibrational boiloff:  1654\n"
     ]
    }
   ],
   "source": [
    "print(\"rat: \",simulation_parameters.rat)\n",
    "print(\"vx: \",simulation_parameters.vx)\n",
    "print(\"vz: \",simulation_parameters.vz)\n",
    "print(\"Name: \",simulation_parameters.moleculeName)\n",
    "print(\"mDop: \",simulation_parameters.mDop)\n",
    "print(\"pDop: \",simulation_parameters.pDop)\n",
    "print(\"TDop: \",simulation_parameters.TDop)\n",
    "print(\"v0: \",simulation_parameters.v0)\n",
    "print(\"number of iterations: \",simulation_parameters.number_of_iterations)\n",
    "print(\"average start number: \",simulation_parameters.startAveN)\n",
    "print(\"Max: \",simulation_parameters.maxAveN)\n",
    "print(\"increment: \",simulation_parameters.increment)\n",
    "print(\"vibrational boiloff: \",simulation_parameters.vibration_Boiloff)\n"
   ]
  },
  {
   "cell_type": "code",
   "execution_count": null,
   "metadata": {},
   "outputs": [],
   "source": []
  }
 ],
 "metadata": {
  "kernelspec": {
   "display_name": "Python 3",
   "language": "python",
   "name": "python3"
  },
  "language_info": {
   "codemirror_mode": {
    "name": "ipython",
    "version": 3
   },
   "file_extension": ".py",
   "mimetype": "text/x-python",
   "name": "python",
   "nbconvert_exporter": "python",
   "pygments_lexer": "ipython3",
   "version": "3.12.3"
  }
 },
 "nbformat": 4,
 "nbformat_minor": 2
}
